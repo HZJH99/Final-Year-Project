{
 "cells": [
  {
   "cell_type": "markdown",
   "id": "e8a0645c-28cb-4142-8e78-ea88d09c2eb7",
   "metadata": {},
   "source": [
    "## Baseline Sentiment Analysis Prototype"
   ]
  },
  {
   "cell_type": "code",
   "execution_count": 25,
   "id": "96d19ddd-cbe0-4eb2-956b-b9e41ef61568",
   "metadata": {
    "scrolled": true
   },
   "outputs": [
    {
     "name": "stderr",
     "output_type": "stream",
     "text": [
      "[nltk_data] Downloading package stopwords to\n",
      "[nltk_data]     C:\\Users\\Henry\\AppData\\Roaming\\nltk_data...\n",
      "[nltk_data]   Package stopwords is already up-to-date!\n",
      "[nltk_data] Downloading package wordnet to\n",
      "[nltk_data]     C:\\Users\\Henry\\AppData\\Roaming\\nltk_data...\n",
      "[nltk_data]   Package wordnet is already up-to-date!\n"
     ]
    },
    {
     "data": {
      "text/plain": [
       "True"
      ]
     },
     "execution_count": 25,
     "metadata": {},
     "output_type": "execute_result"
    }
   ],
   "source": [
    "# Import necessary libraries\n",
    "import pandas as pd\n",
    "import numpy as np\n",
    "import pickle\n",
    "import nltk\n",
    "import re\n",
    "import matplotlib.pyplot as plt\n",
    "import seaborn as sns\n",
    "import tensorflow as tf\n",
    "\n",
    "from nltk.corpus import stopwords\n",
    "from nltk.stem import WordNetLemmatizer\n",
    "from sklearn.model_selection import train_test_split, KFold\n",
    "from sklearn.feature_extraction.text import TfidfVectorizer\n",
    "from sklearn.metrics import mean_squared_error, classification_report, confusion_matrix\n",
    "from sklearn.linear_model import LinearRegression\n",
    "\n",
    "from tensorflow.keras.models import Sequential\n",
    "from tensorflow.keras.layers import Dense, Dropout, Input, LeakyReLU\n",
    "from tensorflow.keras.callbacks import EarlyStopping\n",
    "from tensorflow.keras.regularizers import l2\n",
    "\n",
    "# Download required NLTK resources\n",
    "nltk.download('stopwords')\n",
    "nltk.download('wordnet')"
   ]
  },
  {
   "cell_type": "markdown",
   "id": "0a629bbe-ef93-4c20-a83d-0251dc1ed607",
   "metadata": {},
   "source": [
    "### Data Loading and Initial Cleaning"
   ]
  },
  {
   "cell_type": "markdown",
   "id": "a9d831a6-8738-4b73-84e4-f06d568af959",
   "metadata": {},
   "source": [
    "\n",
    "Loads the **Amazon Fine Food Reviews** dataset, selects only the relevant columns (`'Text'` and `'Score'`), and removes any rows where the `'Text'` field is missing to ensure clean data for processing."
   ]
  },
  {
   "cell_type": "code",
   "execution_count": 5,
   "id": "410e190e-4cd8-446d-a2d0-71242127a7d3",
   "metadata": {},
   "outputs": [],
   "source": [
    "# Load and clean dataset\n",
    "data = pd.read_csv('amazon_fine_food_reviews.csv')\n",
    "data = data[['Text', 'Score']]\n",
    "data.dropna(subset=['Text'], inplace=True)"
   ]
  },
  {
   "cell_type": "markdown",
   "id": "b385d13d-89bb-41eb-a9db-997d8b5c3411",
   "metadata": {},
   "source": [
    "### Exploratory Data Analysis (EDA)"
   ]
  },
  {
   "cell_type": "markdown",
   "id": "9bc1df92-3208-4bcb-8772-fcfa8d91bba2",
   "metadata": {},
   "source": [
    "Provides an initial overview of the dataset by displaying the distribution of review scores and identifying any missing values in the dataset."
   ]
  },
  {
   "cell_type": "code",
   "execution_count": 8,
   "id": "bf0087f4-f2b4-4a9a-a55c-6c6306ec69c2",
   "metadata": {
    "scrolled": true
   },
   "outputs": [
    {
     "name": "stdout",
     "output_type": "stream",
     "text": [
      "Class Distribution:\n",
      " Score\n",
      "5    363122\n",
      "4     80655\n",
      "1     52268\n",
      "3     42640\n",
      "2     29769\n",
      "Name: count, dtype: int64\n",
      "\n",
      "Missing Values:\n",
      " Text     0\n",
      "Score    0\n",
      "dtype: int64\n"
     ]
    }
   ],
   "source": [
    "# Display basic insights\n",
    "print(\"Class Distribution:\\n\", data['Score'].value_counts())\n",
    "print(\"\\nMissing Values:\\n\", data.isnull().sum())"
   ]
  },
  {
   "cell_type": "markdown",
   "id": "14d68758-11c4-4099-875a-3806eec30554",
   "metadata": {},
   "source": [
    "### Soft Label Assignment for Sentiment"
   ]
  },
  {
   "cell_type": "markdown",
   "id": "4825602d-73c0-48e9-a581-ab8fac82753d",
   "metadata": {},
   "source": [
    "Converts the original review scores into soft sentiment labels by assigning a random value within specific ranges, ensuring variation and better representation of sentiment uncertainty."
   ]
  },
  {
   "cell_type": "code",
   "execution_count": 11,
   "id": "e8f83634-b4a2-4f11-b429-5acda0639dfd",
   "metadata": {
    "scrolled": true
   },
   "outputs": [],
   "source": [
    "def assign_soft_label(score):\n",
    "    if score <= 2:\n",
    "        return np.random.uniform(0.05, 0.3)\n",
    "    elif score == 3:\n",
    "        return np.random.uniform(0.45, 0.55)\n",
    "    else:\n",
    "        return np.random.uniform(0.7, 0.95)\n",
    "\n",
    "data['Sentiment'] = data['Score'].apply(assign_soft_label)"
   ]
  },
  {
   "cell_type": "markdown",
   "id": "996e97b8-fa77-415a-bbfb-fd5913ce6fc6",
   "metadata": {},
   "source": [
    "### Text Preprocessing for Sentiment Analysis"
   ]
  },
  {
   "cell_type": "markdown",
   "id": "34d1f0b6-b468-4ed0-a623-17739c4326c6",
   "metadata": {},
   "source": [
    "Converts text to lowercase, handles negations, removes special characters, removes stop words (except key negations), and lemmatizes the remaining words to prepare the text for model training."
   ]
  },
  {
   "cell_type": "code",
   "execution_count": 14,
   "id": "d762ba86-df86-4259-b35b-e53f18106545",
   "metadata": {},
   "outputs": [],
   "source": [
    "# Initialize lemmatizer and stop words (excluding negations)\n",
    "lemmatizer = WordNetLemmatizer()\n",
    "stop_words = set(stopwords.words('english')) - {'not', 'no', 'nor', 'never'} \n",
    "\n",
    "# Text preprocessing function\n",
    "def preprocess_text(text):\n",
    "    text = text.lower()\n",
    "    text = re.sub(r\"\\b(can't|won't|isn't|aren't|wasn't|weren't|don't|doesn't|didn't|hasn't|haven't|hadn't|shouldn't|wouldn't|couldn't|mustn't|n't)\\b\", \"not\", text)\n",
    "    text = ''.join([char for char in text if char.isalnum() or char.isspace()])\n",
    "    text = ' '.join([lemmatizer.lemmatize(word) for word in text.split() if word not in stop_words])\n",
    "    return text\n",
    "\n",
    "data['Cleaned_Text'] = data['Text'].apply(preprocess_text)"
   ]
  },
  {
   "cell_type": "markdown",
   "id": "0ca44f3a-4821-4a4e-968e-41dc58382c70",
   "metadata": {},
   "source": [
    "### Text Vectorization using TF-IDF"
   ]
  },
  {
   "cell_type": "markdown",
   "id": "61e55dcd-8997-40d9-bb86-8f6f70bdda5f",
   "metadata": {},
   "source": [
    "Vectorizes the cleaned review texts into TF-IDF features using unigrams and bigrams (up to 3000), saves the vectorizer for future use, and splits the dataset into training and testing sets."
   ]
  },
  {
   "cell_type": "code",
   "execution_count": 17,
   "id": "37e17f76-255e-4b11-8cad-270692190aaf",
   "metadata": {},
   "outputs": [],
   "source": [
    "# TF-IDF vectorization\n",
    "vectorizer = TfidfVectorizer(max_features=3000, ngram_range=(1, 2))\n",
    "x = vectorizer.fit_transform(data['Cleaned_Text']).toarray().astype('float32')\n",
    "y = data['Sentiment']\n",
    "\n",
    "# Save vectorizer\n",
    "with open('tfidf_vectorizer.pkl', 'wb') as f:\n",
    "    pickle.dump(vectorizer, f)\n",
    "\n",
    "# Train-test split\n",
    "X_train, X_test, y_train, y_test = train_test_split(x, y, test_size=0.2, random_state=101)"
   ]
  },
  {
   "cell_type": "markdown",
   "id": "c6d936a3-91cb-4cf5-af42-878ac8823b56",
   "metadata": {},
   "source": [
    "### Defining the Deep Learning Model Architecture"
   ]
  },
  {
   "cell_type": "markdown",
   "id": "cbe2ba72-00c0-4d6a-9299-4a046dd4ef17",
   "metadata": {},
   "source": [
    "Builds and compiles a deep learning model using the Keras Sequential API with Dense layers, LeakyReLU activations, dropout for regularization, and a linear output layer to predict soft sentiment scores."
   ]
  },
  {
   "cell_type": "code",
   "execution_count": 20,
   "id": "5a5400c9-4a06-4fc0-ac34-77085b0303f7",
   "metadata": {},
   "outputs": [],
   "source": [
    "# Build model\n",
    "def create_model():\n",
    "    model = Sequential([\n",
    "        Input(shape=(X_train.shape[1],)),\n",
    "        Dense(128, kernel_regularizer=l2(0.001)),\n",
    "        LeakyReLU(alpha=0.1),\n",
    "        Dropout(0.3),\n",
    "        Dense(64, kernel_regularizer=l2(0.001)),\n",
    "        LeakyReLU(alpha=0.1),\n",
    "        Dropout(0.3),\n",
    "        Dense(1, activation='linear')  # Soft sentiment prediction\n",
    "    ])\n",
    "    model.compile(optimizer='adam', loss=tf.keras.losses.Huber(), metrics=['mse'])\n",
    "    return model"
   ]
  },
  {
   "cell_type": "markdown",
   "id": "256ac93a-e8f9-4d47-ac2f-3793fe602c6d",
   "metadata": {},
   "source": [
    "### Implementing 5-Fold Cross-Validation for Model Evaluation"
   ]
  },
  {
   "cell_type": "markdown",
   "id": "03530d0e-104c-4428-92bf-f73284d5577e",
   "metadata": {},
   "source": [
    "Performs 5-fold cross-validation to train and validate the model on different subsets of the training data, recording the Mean Squared Error (MSE) for each fold to evaluate model consistency and calculate the average MSE across all folds."
   ]
  },
  {
   "cell_type": "code",
   "execution_count": 27,
   "id": "93319e64-e7c7-45e3-b202-0a88038cf4ac",
   "metadata": {},
   "outputs": [
    {
     "name": "stderr",
     "output_type": "stream",
     "text": [
      "C:\\Users\\Henry\\anaconda3\\Lib\\site-packages\\keras\\src\\layers\\activations\\leaky_relu.py:41: UserWarning: Argument `alpha` is deprecated. Use `negative_slope` instead.\n",
      "  warnings.warn(\n",
      "C:\\Users\\Henry\\anaconda3\\Lib\\site-packages\\keras\\src\\layers\\activations\\leaky_relu.py:41: UserWarning: Argument `alpha` is deprecated. Use `negative_slope` instead.\n",
      "  warnings.warn(\n",
      "C:\\Users\\Henry\\anaconda3\\Lib\\site-packages\\keras\\src\\layers\\activations\\leaky_relu.py:41: UserWarning: Argument `alpha` is deprecated. Use `negative_slope` instead.\n",
      "  warnings.warn(\n",
      "C:\\Users\\Henry\\anaconda3\\Lib\\site-packages\\keras\\src\\layers\\activations\\leaky_relu.py:41: UserWarning: Argument `alpha` is deprecated. Use `negative_slope` instead.\n",
      "  warnings.warn(\n",
      "C:\\Users\\Henry\\anaconda3\\Lib\\site-packages\\keras\\src\\layers\\activations\\leaky_relu.py:41: UserWarning: Argument `alpha` is deprecated. Use `negative_slope` instead.\n",
      "  warnings.warn(\n"
     ]
    },
    {
     "name": "stdout",
     "output_type": "stream",
     "text": [
      "Cross-Validation MSE Scores: [0.03182036057114601, 0.032730091363191605, 0.03208787739276886, 0.033355798572301865, 0.03157788887619972]\n",
      "Average MSE: 0.03231440335512161\n"
     ]
    }
   ],
   "source": [
    "# Cross-validation (5-fold) to evaluate model stability\n",
    "kf = KFold(n_splits=5, shuffle=True, random_state=101)\n",
    "mse_scores = []\n",
    "\n",
    "for train_idx, val_idx in kf.split(X_train):\n",
    "    X_tr, X_val = X_train[train_idx], X_train[val_idx]\n",
    "    y_tr, y_val = y_train.iloc[train_idx], y_train.iloc[val_idx]\n",
    "\n",
    "    model = create_model()\n",
    "    model.fit(X_tr, y_tr, validation_data=(X_val, y_val), epochs=5, batch_size=512, verbose=0)\n",
    "    mse = model.evaluate(X_val, y_val, verbose=0)[1]\n",
    "    mse_scores.append(mse)\n",
    "\n",
    "print(\"Cross-Validation MSE Scores:\", mse_scores)\n",
    "print(\"Average MSE:\", np.mean(mse_scores))"
   ]
  },
  {
   "cell_type": "markdown",
   "id": "25b2b8f4-8ce4-441b-8d91-c278d7d760bb",
   "metadata": {},
   "source": [
    "### Training and Saving the Final Model"
   ]
  },
  {
   "cell_type": "markdown",
   "id": "316d4bdf-12b6-41b1-b981-5f8e26c3a40e",
   "metadata": {},
   "source": [
    "Trains the final model on the entire training dataset with 10% reserved for validation, running for 20 epochs, and then saves the trained model to a file named `sentiment_model.h5` for future use."
   ]
  },
  {
   "cell_type": "code",
   "execution_count": 30,
   "id": "2a272589-7571-43df-b531-91993d86f4ff",
   "metadata": {},
   "outputs": [
    {
     "name": "stderr",
     "output_type": "stream",
     "text": [
      "C:\\Users\\Henry\\anaconda3\\Lib\\site-packages\\keras\\src\\layers\\activations\\leaky_relu.py:41: UserWarning: Argument `alpha` is deprecated. Use `negative_slope` instead.\n",
      "  warnings.warn(\n"
     ]
    },
    {
     "name": "stdout",
     "output_type": "stream",
     "text": [
      "Epoch 1/20\n",
      "\u001b[1m800/800\u001b[0m \u001b[32m━━━━━━━━━━━━━━━━━━━━\u001b[0m\u001b[37m\u001b[0m \u001b[1m10s\u001b[0m 10ms/step - loss: 0.0979 - mse: 0.0784 - val_loss: 0.0238 - val_mse: 0.0371\n",
      "Epoch 2/20\n",
      "\u001b[1m800/800\u001b[0m \u001b[32m━━━━━━━━━━━━━━━━━━━━\u001b[0m\u001b[37m\u001b[0m \u001b[1m9s\u001b[0m 8ms/step - loss: 0.0261 - mse: 0.0417 - val_loss: 0.0223 - val_mse: 0.0347\n",
      "Epoch 3/20\n",
      "\u001b[1m800/800\u001b[0m \u001b[32m━━━━━━━━━━━━━━━━━━━━\u001b[0m\u001b[37m\u001b[0m \u001b[1m6s\u001b[0m 8ms/step - loss: 0.0241 - mse: 0.0386 - val_loss: 0.0214 - val_mse: 0.0335\n",
      "Epoch 4/20\n",
      "\u001b[1m800/800\u001b[0m \u001b[32m━━━━━━━━━━━━━━━━━━━━\u001b[0m\u001b[37m\u001b[0m \u001b[1m10s\u001b[0m 7ms/step - loss: 0.0232 - mse: 0.0374 - val_loss: 0.0208 - val_mse: 0.0327\n",
      "Epoch 5/20\n",
      "\u001b[1m800/800\u001b[0m \u001b[32m━━━━━━━━━━━━━━━━━━━━\u001b[0m\u001b[37m\u001b[0m \u001b[1m7s\u001b[0m 8ms/step - loss: 0.0224 - mse: 0.0362 - val_loss: 0.0199 - val_mse: 0.0317\n",
      "Epoch 6/20\n",
      "\u001b[1m800/800\u001b[0m \u001b[32m━━━━━━━━━━━━━━━━━━━━\u001b[0m\u001b[37m\u001b[0m \u001b[1m6s\u001b[0m 8ms/step - loss: 0.0215 - mse: 0.0352 - val_loss: 0.0192 - val_mse: 0.0310\n",
      "Epoch 7/20\n",
      "\u001b[1m800/800\u001b[0m \u001b[32m━━━━━━━━━━━━━━━━━━━━\u001b[0m\u001b[37m\u001b[0m \u001b[1m6s\u001b[0m 8ms/step - loss: 0.0210 - mse: 0.0347 - val_loss: 0.0188 - val_mse: 0.0308\n",
      "Epoch 8/20\n",
      "\u001b[1m800/800\u001b[0m \u001b[32m━━━━━━━━━━━━━━━━━━━━\u001b[0m\u001b[37m\u001b[0m \u001b[1m6s\u001b[0m 8ms/step - loss: 0.0206 - mse: 0.0342 - val_loss: 0.0184 - val_mse: 0.0302\n",
      "Epoch 9/20\n",
      "\u001b[1m800/800\u001b[0m \u001b[32m━━━━━━━━━━━━━━━━━━━━\u001b[0m\u001b[37m\u001b[0m \u001b[1m10s\u001b[0m 8ms/step - loss: 0.0202 - mse: 0.0336 - val_loss: 0.0182 - val_mse: 0.0301\n",
      "Epoch 10/20\n",
      "\u001b[1m800/800\u001b[0m \u001b[32m━━━━━━━━━━━━━━━━━━━━\u001b[0m\u001b[37m\u001b[0m \u001b[1m6s\u001b[0m 8ms/step - loss: 0.0200 - mse: 0.0335 - val_loss: 0.0184 - val_mse: 0.0303\n",
      "Epoch 11/20\n",
      "\u001b[1m800/800\u001b[0m \u001b[32m━━━━━━━━━━━━━━━━━━━━\u001b[0m\u001b[37m\u001b[0m \u001b[1m6s\u001b[0m 8ms/step - loss: 0.0197 - mse: 0.0330 - val_loss: 0.0181 - val_mse: 0.0302\n",
      "Epoch 12/20\n",
      "\u001b[1m800/800\u001b[0m \u001b[32m━━━━━━━━━━━━━━━━━━━━\u001b[0m\u001b[37m\u001b[0m \u001b[1m7s\u001b[0m 8ms/step - loss: 0.0195 - mse: 0.0330 - val_loss: 0.0187 - val_mse: 0.0313\n",
      "Epoch 13/20\n",
      "\u001b[1m800/800\u001b[0m \u001b[32m━━━━━━━━━━━━━━━━━━━━\u001b[0m\u001b[37m\u001b[0m \u001b[1m6s\u001b[0m 8ms/step - loss: 0.0194 - mse: 0.0328 - val_loss: 0.0180 - val_mse: 0.0301\n",
      "Epoch 14/20\n",
      "\u001b[1m800/800\u001b[0m \u001b[32m━━━━━━━━━━━━━━━━━━━━\u001b[0m\u001b[37m\u001b[0m \u001b[1m6s\u001b[0m 8ms/step - loss: 0.0195 - mse: 0.0329 - val_loss: 0.0180 - val_mse: 0.0302\n",
      "Epoch 15/20\n",
      "\u001b[1m800/800\u001b[0m \u001b[32m━━━━━━━━━━━━━━━━━━━━\u001b[0m\u001b[37m\u001b[0m \u001b[1m11s\u001b[0m 8ms/step - loss: 0.0194 - mse: 0.0328 - val_loss: 0.0179 - val_mse: 0.0301\n",
      "Epoch 16/20\n",
      "\u001b[1m800/800\u001b[0m \u001b[32m━━━━━━━━━━━━━━━━━━━━\u001b[0m\u001b[37m\u001b[0m \u001b[1m7s\u001b[0m 9ms/step - loss: 0.0192 - mse: 0.0326 - val_loss: 0.0180 - val_mse: 0.0304\n",
      "Epoch 17/20\n",
      "\u001b[1m800/800\u001b[0m \u001b[32m━━━━━━━━━━━━━━━━━━━━\u001b[0m\u001b[37m\u001b[0m \u001b[1m10s\u001b[0m 9ms/step - loss: 0.0192 - mse: 0.0326 - val_loss: 0.0178 - val_mse: 0.0300\n",
      "Epoch 18/20\n",
      "\u001b[1m800/800\u001b[0m \u001b[32m━━━━━━━━━━━━━━━━━━━━\u001b[0m\u001b[37m\u001b[0m \u001b[1m11s\u001b[0m 9ms/step - loss: 0.0192 - mse: 0.0326 - val_loss: 0.0179 - val_mse: 0.0299\n",
      "Epoch 19/20\n",
      "\u001b[1m800/800\u001b[0m \u001b[32m━━━━━━━━━━━━━━━━━━━━\u001b[0m\u001b[37m\u001b[0m \u001b[1m10s\u001b[0m 9ms/step - loss: 0.0192 - mse: 0.0325 - val_loss: 0.0178 - val_mse: 0.0302\n",
      "Epoch 20/20\n",
      "\u001b[1m800/800\u001b[0m \u001b[32m━━━━━━━━━━━━━━━━━━━━\u001b[0m\u001b[37m\u001b[0m \u001b[1m7s\u001b[0m 8ms/step - loss: 0.0193 - mse: 0.0327 - val_loss: 0.0178 - val_mse: 0.0299\n"
     ]
    },
    {
     "name": "stderr",
     "output_type": "stream",
     "text": [
      "WARNING:absl:You are saving your model as an HDF5 file via `model.save()` or `keras.saving.save_model(model)`. This file format is considered legacy. We recommend using instead the native Keras format, e.g. `model.save('my_model.keras')` or `keras.saving.save_model(model, 'my_model.keras')`. \n"
     ]
    },
    {
     "name": "stdout",
     "output_type": "stream",
     "text": [
      "Final Model saved successfully!\n"
     ]
    }
   ],
   "source": [
    "# Final training with early stopping\n",
    "final_model = create_model()\n",
    "history = final_model.fit(X_train, y_train, \n",
    "                          epochs=20, \n",
    "                          batch_size=512, \n",
    "                          validation_split=0.1,\n",
    "                          callbacks=[EarlyStopping(patience=5, restore_best_weights=True)], \n",
    "                          verbose=1)\n",
    "\n",
    "# Save the final model\n",
    "final_model.save('sentiment_model.h5')\n",
    "print(\"Final Model saved successfully!\")"
   ]
  },
  {
   "cell_type": "markdown",
   "id": "02eb0362-8f25-4fc3-8181-4c9d5eb20306",
   "metadata": {},
   "source": [
    "### Visualizing Training and Validation Loss Over Epochs"
   ]
  },
  {
   "cell_type": "markdown",
   "id": "424db7eb-f5c6-4630-88bc-f5c38f29f8a7",
   "metadata": {},
   "source": [
    "Plots the training and validation loss values across each epoch to visually analyze the model's learning progress and check for issues like overfitting or underfitting."
   ]
  },
  {
   "cell_type": "code",
   "execution_count": 33,
   "id": "6cde420e-013d-4c52-a394-925b7300a2fd",
   "metadata": {},
   "outputs": [
    {
     "data": {
      "image/png": "[encoded data removed]",
      "text/plain": [
       "<Figure size 1000x500 with 1 Axes>"
      ]
     },
     "metadata": {},
     "output_type": "display_data"
    }
   ],
   "source": [
    "plt.figure(figsize=(10, 5))\n",
    "plt.plot(history.history['loss'], label='Training Loss')\n",
    "plt.plot(history.history['val_loss'], label='Validation Loss')\n",
    "plt.title('Training vs Validation Loss')\n",
    "plt.xlabel('Epoch')\n",
    "plt.ylabel('Loss')\n",
    "plt.legend()\n",
    "plt.show()"
   ]
  },
  {
   "cell_type": "markdown",
   "id": "0939429f-b524-4662-89dc-67086bc5c82a",
   "metadata": {},
   "source": [
    "### Evaluating the Final Model on Test Set"
   ]
  },
  {
   "cell_type": "markdown",
   "id": "e9cf47db-6d1a-4edb-a1db-d8617a57aaf3",
   "metadata": {},
   "source": [
    "Generates sentiment score predictions for the test set using the trained model, calculates the Mean Squared Error (MSE) between the predicted and actual values, and prints the test set MSE as a performance metric."
   ]
  },
  {
   "cell_type": "code",
   "execution_count": 36,
   "id": "7b2ab25c-488b-4616-8f68-810633d6b39f",
   "metadata": {},
   "outputs": [
    {
     "name": "stdout",
     "output_type": "stream",
     "text": [
      "\u001b[1m3553/3553\u001b[0m \u001b[32m━━━━━━━━━━━━━━━━━━━━\u001b[0m\u001b[37m\u001b[0m \u001b[1m8s\u001b[0m 2ms/step\n",
      "Test Set MSE: 0.030224363742019054\n"
     ]
    }
   ],
   "source": [
    "predictions = final_model.predict(X_test).flatten()\n",
    "test_mse = mean_squared_error(y_test, predictions)\n",
    "print(\"Test Set MSE:\", test_mse)"
   ]
  },
  {
   "cell_type": "markdown",
   "id": "cb14413b-fe51-4ba6-9918-2cf00fa389af",
   "metadata": {},
   "source": [
    "###  Mapping Soft Predictions to Sentiment Labels"
   ]
  },
  {
   "cell_type": "markdown",
   "id": "0fc2f56b-4137-4814-ad36-6156253f4df4",
   "metadata": {},
   "source": [
    "Converts continuous sentiment scores into categorical labels (`'Positive`', `'Neutral`', `'Negative`') based on defined thresholds, and then evaluates the model's classification performance using a classification report."
   ]
  },
  {
   "cell_type": "code",
   "execution_count": 39,
   "id": "699b9717-a161-43b2-a218-5595f2809469",
   "metadata": {},
   "outputs": [
    {
     "name": "stdout",
     "output_type": "stream",
     "text": [
      "\n",
      "Classification Report:\n",
      "               precision    recall  f1-score   support\n",
      "\n",
      "    Negative       0.80      0.46      0.58     16329\n",
      "     Neutral       0.19      0.51      0.28      8600\n",
      "    Positive       0.94      0.86      0.90     88762\n",
      "\n",
      "    accuracy                           0.78    113691\n",
      "   macro avg       0.64      0.61      0.59    113691\n",
      "weighted avg       0.87      0.78      0.81    113691\n",
      "\n"
     ]
    }
   ],
   "source": [
    "# Map continuous predictions to categorical labels\n",
    "def classify_sentiment(score):\n",
    "    if score >= 0.7:\n",
    "        return 'Positive'\n",
    "    elif score < 0.4:\n",
    "        return 'Negative'\n",
    "    else:\n",
    "        return 'Neutral'\n",
    "\n",
    "predicted_labels = [classify_sentiment(p) for p in predictions]\n",
    "true_labels = [classify_sentiment(t) for t in y_test]\n",
    "\n",
    "# Classification report and confusion matrix\n",
    "print(\"\\nClassification Report:\\n\", classification_report(true_labels, predicted_labels))"
   ]
  },
  {
   "cell_type": "markdown",
   "id": "52347aec-2756-4c80-9fb2-f7b5453eb5e6",
   "metadata": {},
   "source": [
    "### Visualizing the Confusion Matrix"
   ]
  },
  {
   "cell_type": "markdown",
   "id": "6f353705-4a14-48df-b7b5-f7c858692f97",
   "metadata": {},
   "source": [
    "Generates and visualizes the confusion matrix to show how well the model's predicted sentiment categories align with the true sentiment labels, helping identify classification accuracy and common misclassifications."
   ]
  },
  {
   "cell_type": "code",
   "execution_count": 42,
   "id": "7f3994a7-c653-4933-90a6-f0599b42bda4",
   "metadata": {},
   "outputs": [
    {
     "data": {
      "image/png": "[encoded data removed]",
      "text/plain": [
       "<Figure size 640x480 with 2 Axes>"
      ]
     },
     "metadata": {},
     "output_type": "display_data"
    }
   ],
   "source": [
    "cm = confusion_matrix(true_labels, predicted_labels, labels=['Positive', 'Neutral', 'Negative'])\n",
    "sns.heatmap(cm, annot=True, fmt='d', cmap='YlOrRd', xticklabels=['Positive', 'Neutral', 'Negative'], yticklabels=['Positive', 'Neutral', 'Negative'])\n",
    "plt.title(\"Confusion Matrix\")\n",
    "plt.xlabel(\"Predicted\")\n",
    "plt.ylabel(\"Actual\")\n",
    "plt.show()"
   ]
  },
  {
   "cell_type": "markdown",
   "id": "587c710d-b7fd-4e62-8db5-9bf9ab9cdbe3",
   "metadata": {},
   "source": [
    "### Baseline Model Comparison"
   ]
  },
  {
   "cell_type": "markdown",
   "id": "d2ab3375-4d8c-47f5-b663-9af4c89bad1e",
   "metadata": {},
   "source": [
    "Creates a baseline model that predicts the mean sentiment score from the training data for all test samples, calculates its MSE, and compares it to the trained model's MSE to assess improvement over a common-sense baseline."
   ]
  },
  {
   "cell_type": "code",
   "execution_count": 45,
   "id": "aa98b85f-7a72-4622-b275-a83cf4aa20cc",
   "metadata": {},
   "outputs": [
    {
     "name": "stdout",
     "output_type": "stream",
     "text": [
      "\n",
      "Baseline Mean Predictor MSE: 0.0596\n",
      "Your Model MSE: 0.0316\n"
     ]
    }
   ],
   "source": [
    "# Compare to baseline (mean predictor)\n",
    "baseline_prediction = np.full_like(y_test, y_train.mean())\n",
    "baseline_mse = mean_squared_error(y_test, baseline_prediction)\n",
    "\n",
    "print(f\"\\nBaseline Mean Predictor MSE: {baseline_mse:.4f}\")\n",
    "print(f\"Your Model MSE: {mse:.4f}\")"
   ]
  },
  {
   "cell_type": "markdown",
   "id": "a933cc78-144b-45dc-8a94-094c31c37203",
   "metadata": {},
   "source": [
    "### Linear Regression Benchmark"
   ]
  },
  {
   "cell_type": "markdown",
   "id": "8148881f-c68f-430e-9b83-e8e6a16407a6",
   "metadata": {},
   "source": [
    "Trains a basic Linear Regression model on the training data and evaluates its performance on the test set by computing the Mean Squared Error (MSE), providing a benchmark for comparison against the deep learning model."
   ]
  },
  {
   "cell_type": "code",
   "execution_count": 48,
   "id": "7d185173-53f9-408d-94d6-f8d9bed547e9",
   "metadata": {},
   "outputs": [
    {
     "name": "stdout",
     "output_type": "stream",
     "text": [
      "\n",
      "Linear Regression MSE: 0.0322\n"
     ]
    }
   ],
   "source": [
    "# Compare to Linear Regression\n",
    "lr_model = LinearRegression()\n",
    "lr_model.fit(X_train, y_train)\n",
    "lr_preds = lr_model.predict(X_test)\n",
    "\n",
    "lr_mse = mean_squared_error(y_test, lr_preds)\n",
    "print(f\"\\nLinear Regression MSE: {lr_mse:.4f}\")"
   ]
  },
  {
   "cell_type": "markdown",
   "id": "a2df2fa2-6217-4f54-8f81-91e46c8fb3da",
   "metadata": {},
   "source": [
    "### Example Predictions Overview"
   ]
  },
  {
   "cell_type": "markdown",
   "id": "c6622b6b-e2e7-49e0-95ad-fbeb0a66cc04",
   "metadata": {},
   "source": [
    "Prints the first five reviews from the dataset along with their true soft sentiment scores and the model’s predicted sentiment values to qualitatively assess prediction accuracy."
   ]
  },
  {
   "cell_type": "code",
   "execution_count": 51,
   "id": "4b15ff38-e429-40b0-a183-09fdb7899113",
   "metadata": {},
   "outputs": [
    {
     "name": "stdout",
     "output_type": "stream",
     "text": [
      "\n",
      "Review: I have bought several of the Vitality canned dog food products and have found them all to be of good quality. The product looks more like a stew than a processed meat and it smells better. My Labrador\n",
      "True Sentiment: 0.12\n",
      "Predicted: 0.53\n",
      "\n",
      "Review: Product arrived labeled as Jumbo Salted Peanuts...the peanuts were actually small sized unsalted. Not sure if this was an error or if the vendor intended to represent the product as \"Jumbo\".\n",
      "True Sentiment: 0.95\n",
      "Predicted: 0.56\n",
      "\n",
      "Review: This is a confection that has been around a few centuries.  It is a light, pillowy citrus gelatin with nuts - in this case Filberts. And it is cut into tiny squares and then liberally coated with powd\n",
      "True Sentiment: 0.91\n",
      "Predicted: 0.8\n",
      "\n",
      "Review: If you are looking for the secret ingredient in Robitussin I believe I have found it.  I got this in addition to the Root Beer Extract I ordered (which was good) and made some cherry soda.  The flavor\n",
      "True Sentiment: 0.9\n",
      "Predicted: 0.8\n",
      "\n",
      "Review: Great taffy at a great price.  There was a wide assortment of yummy taffy.  Delivery was very quick.  If your a taffy lover, this is a deal.\n",
      "True Sentiment: 0.72\n",
      "Predicted: 0.79\n"
     ]
    }
   ],
   "source": [
    "# Display a few prediction examples\n",
    "for i in range(5):\n",
    "    print(\"\\nReview:\", data['Text'].iloc[i][:200])\n",
    "    print(\"True Sentiment:\", round(y_test.iloc[i], 2))\n",
    "    print(\"Predicted:\", round(predictions[i], 2))\n"
   ]
  }
 ],
 "metadata": {
  "kernelspec": {
   "display_name": "Python [conda env:base] *",
   "language": "python",
   "name": "conda-base-py"
  },
  "language_info": {
   "codemirror_mode": {
    "name": "ipython",
    "version": 3
   },
   "file_extension": ".py",
   "mimetype": "text/x-python",
   "name": "python",
   "nbconvert_exporter": "python",
   "pygments_lexer": "ipython3",
   "version": "3.12.7"
  }
 },
 "nbformat": 4,
 "nbformat_minor": 5
}
